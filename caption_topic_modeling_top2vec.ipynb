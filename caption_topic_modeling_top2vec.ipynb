{
 "cells": [
  {
   "cell_type": "code",
   "execution_count": 14,
   "id": "1b2ab3c9",
   "metadata": {},
   "outputs": [],
   "source": [
    "# libraries\n",
    "import os\n",
    "import nltk\n",
    "import pandas as pd"
   ]
  },
  {
   "cell_type": "code",
   "execution_count": 15,
   "id": "c61cd396",
   "metadata": {},
   "outputs": [
    {
     "data": {
      "text/html": [
       "<div>\n",
       "<style scoped>\n",
       "    .dataframe tbody tr th:only-of-type {\n",
       "        vertical-align: middle;\n",
       "    }\n",
       "\n",
       "    .dataframe tbody tr th {\n",
       "        vertical-align: top;\n",
       "    }\n",
       "\n",
       "    .dataframe thead th {\n",
       "        text-align: right;\n",
       "    }\n",
       "</style>\n",
       "<table border=\"1\" class=\"dataframe\">\n",
       "  <thead>\n",
       "    <tr style=\"text-align: right;\">\n",
       "      <th></th>\n",
       "      <th>caption</th>\n",
       "      <th>mean</th>\n",
       "      <th>precision</th>\n",
       "      <th>votes</th>\n",
       "      <th>not_funny</th>\n",
       "      <th>somewhat_funny</th>\n",
       "      <th>funny</th>\n",
       "    </tr>\n",
       "  </thead>\n",
       "  <tbody>\n",
       "    <tr>\n",
       "      <th>0</th>\n",
       "      <td>It's OK, as long as I don't sit on the Jalapenos.</td>\n",
       "      <td>1.739322</td>\n",
       "      <td>0.019937</td>\n",
       "      <td>1592</td>\n",
       "      <td>765</td>\n",
       "      <td>477</td>\n",
       "      <td>350</td>\n",
       "    </tr>\n",
       "    <tr>\n",
       "      <th>1</th>\n",
       "      <td>I got tired of Pad Thai.</td>\n",
       "      <td>1.685714</td>\n",
       "      <td>0.018985</td>\n",
       "      <td>1750</td>\n",
       "      <td>913</td>\n",
       "      <td>474</td>\n",
       "      <td>363</td>\n",
       "    </tr>\n",
       "    <tr>\n",
       "      <th>2</th>\n",
       "      <td>It was a special offer so I jumped on it.</td>\n",
       "      <td>1.656762</td>\n",
       "      <td>0.018256</td>\n",
       "      <td>1649</td>\n",
       "      <td>833</td>\n",
       "      <td>549</td>\n",
       "      <td>267</td>\n",
       "    </tr>\n",
       "    <tr>\n",
       "      <th>3</th>\n",
       "      <td>Then I realized, I was the special topping.</td>\n",
       "      <td>1.650355</td>\n",
       "      <td>0.021625</td>\n",
       "      <td>1267</td>\n",
       "      <td>674</td>\n",
       "      <td>362</td>\n",
       "      <td>231</td>\n",
       "    </tr>\n",
       "    <tr>\n",
       "      <th>4</th>\n",
       "      <td>You're sitting on my side salad.</td>\n",
       "      <td>1.641299</td>\n",
       "      <td>0.011623</td>\n",
       "      <td>4034</td>\n",
       "      <td>2082</td>\n",
       "      <td>1317</td>\n",
       "      <td>635</td>\n",
       "    </tr>\n",
       "  </tbody>\n",
       "</table>\n",
       "</div>"
      ],
      "text/plain": [
       "                                             caption      mean  precision  \\\n",
       "0  It's OK, as long as I don't sit on the Jalapenos.  1.739322   0.019937   \n",
       "1                           I got tired of Pad Thai.  1.685714   0.018985   \n",
       "2          It was a special offer so I jumped on it.  1.656762   0.018256   \n",
       "3        Then I realized, I was the special topping.  1.650355   0.021625   \n",
       "4                   You're sitting on my side salad.  1.641299   0.011623   \n",
       "\n",
       "   votes  not_funny  somewhat_funny  funny  \n",
       "0   1592        765             477    350  \n",
       "1   1750        913             474    363  \n",
       "2   1649        833             549    267  \n",
       "3   1267        674             362    231  \n",
       "4   4034       2082            1317    635  "
      ]
     },
     "execution_count": 15,
     "metadata": {},
     "output_type": "execute_result"
    }
   ],
   "source": [
    "# reading in data\n",
    "data = pd.read_csv(\"852.csv\")\n",
    "\n",
    "# print head \n",
    "data.head()"
   ]
  },
  {
   "cell_type": "code",
   "execution_count": 16,
   "id": "38b7550e",
   "metadata": {},
   "outputs": [
    {
     "data": {
      "text/html": [
       "<div>\n",
       "<style scoped>\n",
       "    .dataframe tbody tr th:only-of-type {\n",
       "        vertical-align: middle;\n",
       "    }\n",
       "\n",
       "    .dataframe tbody tr th {\n",
       "        vertical-align: top;\n",
       "    }\n",
       "\n",
       "    .dataframe thead th {\n",
       "        text-align: right;\n",
       "    }\n",
       "</style>\n",
       "<table border=\"1\" class=\"dataframe\">\n",
       "  <thead>\n",
       "    <tr style=\"text-align: right;\">\n",
       "      <th></th>\n",
       "      <th>caption</th>\n",
       "    </tr>\n",
       "  </thead>\n",
       "  <tbody>\n",
       "    <tr>\n",
       "      <th>0</th>\n",
       "      <td>It's OK, as long as I don't sit on the Jalapenos.</td>\n",
       "    </tr>\n",
       "    <tr>\n",
       "      <th>1</th>\n",
       "      <td>I got tired of Pad Thai.</td>\n",
       "    </tr>\n",
       "    <tr>\n",
       "      <th>2</th>\n",
       "      <td>It was a special offer so I jumped on it.</td>\n",
       "    </tr>\n",
       "    <tr>\n",
       "      <th>3</th>\n",
       "      <td>Then I realized, I was the special topping.</td>\n",
       "    </tr>\n",
       "    <tr>\n",
       "      <th>4</th>\n",
       "      <td>You're sitting on my side salad.</td>\n",
       "    </tr>\n",
       "  </tbody>\n",
       "</table>\n",
       "</div>"
      ],
      "text/plain": [
       "                                             caption\n",
       "0  It's OK, as long as I don't sit on the Jalapenos.\n",
       "1                           I got tired of Pad Thai.\n",
       "2          It was a special offer so I jumped on it.\n",
       "3        Then I realized, I was the special topping.\n",
       "4                   You're sitting on my side salad."
      ]
     },
     "execution_count": 16,
     "metadata": {},
     "output_type": "execute_result"
    }
   ],
   "source": [
    "# remove columns\n",
    "df = data.drop(columns=['mean', 'precision', 'votes', 'not_funny', 'somewhat_funny', 'funny'], axis=1)\n",
    "\n",
    "df.head()"
   ]
  },
  {
   "cell_type": "code",
   "execution_count": 17,
   "id": "5bce3b5b",
   "metadata": {},
   "outputs": [
    {
     "data": {
      "text/plain": [
       "\"It's OK, as long as I don't sit on the Jalapenos.\""
      ]
     },
     "execution_count": 17,
     "metadata": {},
     "output_type": "execute_result"
    }
   ],
   "source": [
    "captions = df.caption.tolist()\n",
    "captions[0]"
   ]
  },
  {
   "cell_type": "code",
   "execution_count": 18,
   "id": "d02b0302",
   "metadata": {},
   "outputs": [
    {
     "name": "stderr",
     "output_type": "stream",
     "text": [
      "2023-07-17 09:37:17,908 - top2vec - INFO - Pre-processing documents for training\n",
      "2023-07-17 09:37:18,285 - top2vec - INFO - Creating joint document/word embedding\n",
      "2023-07-17 09:37:43,352 - top2vec - INFO - Creating lower dimension embedding of documents\n",
      "2023-07-17 09:38:01,454 - top2vec - INFO - Finding dense areas of documents\n",
      "2023-07-17 09:38:02,473 - top2vec - INFO - Finding topics\n"
     ]
    }
   ],
   "source": [
    "from top2vec import Top2Vec\n",
    "\n",
    "model = Top2Vec(captions)"
   ]
  },
  {
   "cell_type": "code",
   "execution_count": 19,
   "id": "f244592c",
   "metadata": {},
   "outputs": [
    {
     "name": "stdout",
     "output_type": "stream",
     "text": [
      "[1456  824  584  569  521  521  476]\n"
     ]
    }
   ],
   "source": [
    "topic_sizes, topic_nums = model.get_topic_sizes()\n",
    "print(topic_sizes)"
   ]
  },
  {
   "cell_type": "code",
   "execution_count": 20,
   "id": "4741129b",
   "metadata": {},
   "outputs": [],
   "source": [
    "topic_words, word_scores, topic_nums = model.get_topics()"
   ]
  },
  {
   "cell_type": "code",
   "execution_count": 21,
   "id": "9fcf8c00",
   "metadata": {},
   "outputs": [
    {
     "data": {
      "text/plain": [
       "7"
      ]
     },
     "execution_count": 21,
     "metadata": {},
     "output_type": "execute_result"
    }
   ],
   "source": [
    "model.get_num_topics()"
   ]
  },
  {
   "cell_type": "code",
   "execution_count": 22,
   "id": "85722287",
   "metadata": {},
   "outputs": [
    {
     "name": "stdout",
     "output_type": "stream",
     "text": [
      "0\n",
      "Words:['this' 'as' 'it' 'is' 'deep' 'the' 'out' 'can' 'my' 'yes' 'in' 'new'\n",
      " 'didn' 'pizza' 'was' 'more' 'know' 'why' 'who' 'to' 'what' 'crust' 'like'\n",
      " 'eat' 're' 'york' 'chicago' 'one' 'you' 'vegan' 'on' 'think' 'little'\n",
      " 'but' 'll' 'go' 'much' 'pie' 'has' 'order' 'me' 'will' 'sure' 'get'\n",
      " 'over' 'now' 'have' 'some' 'good' 'had']\n",
      "1\n",
      "Words:['ve' 'here' 'lily' 'always' 'with' 'or' 'pond' 'an' 'come' 'free' 'how'\n",
      " 'she' 'princess' 'of' 'pads' 'delivered' 'call' 'croak' 'cheesy'\n",
      " 'minutes' 'at' 'well' 'cheese' 'would' 'pad' 'see' 'guy' 'they' 'home'\n",
      " 'better' 'we' 'time' 'anchovies' 'not' 'no' 'by' 'told' 'your' 'legs'\n",
      " 'than' 'you' 'that' 'thought' 'soggy' 'after' 'gluten' 'are' 'fly'\n",
      " 'italian' 'want']\n",
      "2\n",
      "Words:['pad' 'about' 'that' 'you' 'call' 'free' 'she' 'who' 'if' 'to' 'in' 'all'\n",
      " 'say' 'not' 'with' 'slice' 'new' 'time' 'when' 'and' 'this' 'now' 'guy'\n",
      " 'lily' 'pads' 'eat' 'or' 'it' 'came' 'home' 'love' 'so' 'side' 'vegan'\n",
      " 'best' 'princess' 'up' 'crust' 'pizza' 'know' 'better' 'an' 'have' 'told'\n",
      " 'me' 'minutes' 'only' 'anchovies' 'but' 'they']\n",
      "3\n",
      "Words:['best' 'should' 'come' 'how' 'free' 'could' 'of' 'or' 'ordered' 'too'\n",
      " 've' 'home' 'for' 'makes' 'pads' 'well' 'only' 'lily' 'with' 'came' 'me'\n",
      " 'at' 'got' 'croak' 'life' 'topping' 'don' 'minutes' 'prince' 'that' 'to'\n",
      " 'thing' 'be' 'extra' 'pond' 'will' 'say' 'your' 'pie' 'vegan' 'mine'\n",
      " 'gluten' 'style' 'see' 'said' 'side' 'flies' 'delivered' 'over' 'yours']\n",
      "4\n",
      "Words:['had' 'out' 'wanted' 'gluten' 'it' 'or' 'style' 'free' 'italy' 'came'\n",
      " 'pad' 'cheesy' 'italian' 'are' 'we' 'little' 've' 'do' 're' 'she' 'how'\n",
      " 'when' 'the' 'soggy' 'pads' 'll' 'over' 'you' 'princess' 'pepperoni'\n",
      " 'yours' 'said' 'really' 'chicago' 'vegan' 'to' 'call' 'want' 'say' 'at'\n",
      " 'of' 'pineapple' 'time' 'thin' 'is' 'crust' 'home' 'would' 'there' 'by']\n",
      "5\n",
      "Words:['have' 'really' 'of' 'free' 'would' 'about' 'then' 'see' 'are' 'from'\n",
      " 'ordered' 'slice' 'attracts' 'or' 'legs' 'is' 'we' 'well' 'she' 'with'\n",
      " 'thought' 'how' 'but' 'your' 'they' 'home' 'floats' 'here' 'topping' 'my'\n",
      " 'never' 'call' 'better' 'at' 'an' 'minutes' 'cheese' 'told' 'came'\n",
      " 'delivery' 'on' 'pineapple' 'after' 'and' 'fly' 'gluten' 'guy' 'be'\n",
      " 'soggy' 'best']\n",
      "6\n",
      "Words:['of' 'really' 'chicago' 'makes' 'this' 'could' 'go' 'sure' 'so' 'after'\n",
      " 'she' 'style' 'more' 'well' 'in' 'italian' 'will' 'crust' 'told' 'came'\n",
      " 'fly' 'and' 'pineapple' 'pad' 'who' 'topping' 'floats' 'gluten' 'much'\n",
      " 'only' 'call' 'order' 'me' 'york' 'is' 'here' 'lily' 'one' 'anchovies'\n",
      " 'pie' 'then' 'than' 'yes' 'didn' 'was' 're' 'did' 'way' 'ordered' 'be']\n"
     ]
    }
   ],
   "source": [
    "for words, scores, num in zip(topic_words, word_scores, topic_nums):\n",
    "    print(num)\n",
    "    print(f\"Words:{words}\")"
   ]
  },
  {
   "cell_type": "code",
   "execution_count": 23,
   "id": "b0dbcbc4",
   "metadata": {},
   "outputs": [
    {
     "name": "stdout",
     "output_type": "stream",
     "text": [
      "Caption:2547, Score:0.45216983556747437\n",
      "--------\n",
      "['I like my cheese knee-deep. Knee-deep. Knee-deep.'\n",
      " 'You know how I love to keep up with European trends...this is the latest out of Naples. They call it Pizza Pad.'\n",
      " 'New York is great, but I do miss Chicago.'\n",
      " \"One drink, and then she leaves! She said she didn't like my pad.\"\n",
      " 'Yes, we kissed, but this princess had a different idea of true love.']\n",
      "--------\n",
      "\n",
      "Caption:3048, Score:0.41437748074531555\n",
      "--------\n",
      "['I like my cheese knee-deep. Knee-deep. Knee-deep.'\n",
      " 'You know how I love to keep up with European trends...this is the latest out of Naples. They call it Pizza Pad.'\n",
      " 'New York is great, but I do miss Chicago.'\n",
      " \"One drink, and then she leaves! She said she didn't like my pad.\"\n",
      " 'Yes, we kissed, but this princess had a different idea of true love.']\n",
      "--------\n",
      "\n",
      "Caption:34, Score:0.39782050251960754\n",
      "--------\n",
      "['I like my cheese knee-deep. Knee-deep. Knee-deep.'\n",
      " 'You know how I love to keep up with European trends...this is the latest out of Naples. They call it Pizza Pad.'\n",
      " 'New York is great, but I do miss Chicago.'\n",
      " \"One drink, and then she leaves! She said she didn't like my pad.\"\n",
      " 'Yes, we kissed, but this princess had a different idea of true love.']\n",
      "--------\n",
      "\n",
      "Caption:4302, Score:0.37459683418273926\n",
      "--------\n",
      "['I like my cheese knee-deep. Knee-deep. Knee-deep.'\n",
      " 'You know how I love to keep up with European trends...this is the latest out of Naples. They call it Pizza Pad.'\n",
      " 'New York is great, but I do miss Chicago.'\n",
      " \"One drink, and then she leaves! She said she didn't like my pad.\"\n",
      " 'Yes, we kissed, but this princess had a different idea of true love.']\n",
      "--------\n",
      "\n",
      "Caption:2961, Score:0.36578840017318726\n",
      "--------\n",
      "['I like my cheese knee-deep. Knee-deep. Knee-deep.'\n",
      " 'You know how I love to keep up with European trends...this is the latest out of Naples. They call it Pizza Pad.'\n",
      " 'New York is great, but I do miss Chicago.'\n",
      " \"One drink, and then she leaves! She said she didn't like my pad.\"\n",
      " 'Yes, we kissed, but this princess had a different idea of true love.']\n",
      "--------\n",
      "\n"
     ]
    }
   ],
   "source": [
    "captions, caption_scores, caption_ids = model.search_documents_by_topic(topic_num = 0, num_docs = 5)\n",
    "for cap, score, cap_id in zip(captions, caption_scores, caption_ids):\n",
    "    print(f\"Caption:{cap_id}, Score:{score}\")\n",
    "    print(\"--------\")\n",
    "    print(captions)\n",
    "    print(\"--------\")\n",
    "    print()"
   ]
  },
  {
   "cell_type": "code",
   "execution_count": null,
   "id": "8b0a0cad",
   "metadata": {},
   "outputs": [],
   "source": []
  }
 ],
 "metadata": {
  "kernelspec": {
   "display_name": "Python 3 (ipykernel)",
   "language": "python",
   "name": "python3"
  },
  "language_info": {
   "codemirror_mode": {
    "name": "ipython",
    "version": 3
   },
   "file_extension": ".py",
   "mimetype": "text/x-python",
   "name": "python",
   "nbconvert_exporter": "python",
   "pygments_lexer": "ipython3",
   "version": "3.11.4"
  }
 },
 "nbformat": 4,
 "nbformat_minor": 5
}
